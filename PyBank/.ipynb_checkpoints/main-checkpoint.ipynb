{
 "cells": [
  {
   "cell_type": "code",
   "execution_count": 127,
   "id": "bcf31e54-ca36-467a-ad4a-3365c2527308",
   "metadata": {},
   "outputs": [],
   "source": [
    "from pathlib import Path\n",
    "import csv\n",
    "import pandas as pd\n",
    "import sys"
   ]
  },
  {
   "cell_type": "code",
   "execution_count": 119,
   "id": "32e8d9b5-d5ed-4cc6-8272-567c349aeafc",
   "metadata": {},
   "outputs": [],
   "source": [
    "csvpath = Path('../PyBank/Resources/budget_data.csv')\n",
    "txtpath = Path('../PyBank/Resources/text.txt')"
   ]
  },
  {
   "cell_type": "code",
   "execution_count": 91,
   "id": "0275197f-7e90-446e-b14f-c609f722baa5",
   "metadata": {},
   "outputs": [],
   "source": [
    "df = pd.read_csv('../PyBank/Resources/budget_data.csv')"
   ]
  },
  {
   "cell_type": "code",
   "execution_count": 92,
   "id": "7f6b24f0-a304-43f0-a08f-343055b27e90",
   "metadata": {},
   "outputs": [
    {
     "name": "stdout",
     "output_type": "stream",
     "text": [
      "     Date  Profit/Losses\n",
      "0  Jan-10         867884\n",
      "1  Feb-10         984655\n",
      "2  Mar-10         322013\n",
      "3  Apr-10         -69417\n",
      "4  May-10         310503\n"
     ]
    }
   ],
   "source": [
    "print(df.head())"
   ]
  },
  {
   "cell_type": "code",
   "execution_count": 93,
   "id": "e4604af7-30df-45b6-a7b9-c692e46108f0",
   "metadata": {},
   "outputs": [
    {
     "name": "stdout",
     "output_type": "stream",
     "text": [
      "86\n"
     ]
    }
   ],
   "source": [
    "print(len(df))"
   ]
  },
  {
   "cell_type": "code",
   "execution_count": 94,
   "id": "a7abbad2-c6f4-4ef4-98b5-3cd45133dc4f",
   "metadata": {},
   "outputs": [
    {
     "name": "stdout",
     "output_type": "stream",
     "text": [
      "The total amount of months is 86\n"
     ]
    }
   ],
   "source": [
    "total_months = len(df)\n",
    "print(\"The total amount of months is \" + str(total_months))"
   ]
  },
  {
   "cell_type": "code",
   "execution_count": 95,
   "id": "74d036d6-20fb-4397-921b-b155ded6fc75",
   "metadata": {},
   "outputs": [
    {
     "name": "stdout",
     "output_type": "stream",
     "text": [
      "The total profits were 38382578\n"
     ]
    }
   ],
   "source": [
    "total = df['Profit/Losses'].sum()\n",
    "print(\"The total profits were \" + str(total))\n"
   ]
  },
  {
   "cell_type": "code",
   "execution_count": 96,
   "id": "15349ce2-b799-444e-8e7a-3485365570da",
   "metadata": {},
   "outputs": [
    {
     "data": {
      "text/html": [
       "<div>\n",
       "<style scoped>\n",
       "    .dataframe tbody tr th:only-of-type {\n",
       "        vertical-align: middle;\n",
       "    }\n",
       "\n",
       "    .dataframe tbody tr th {\n",
       "        vertical-align: top;\n",
       "    }\n",
       "\n",
       "    .dataframe thead th {\n",
       "        text-align: right;\n",
       "    }\n",
       "</style>\n",
       "<table border=\"1\" class=\"dataframe\">\n",
       "  <thead>\n",
       "    <tr style=\"text-align: right;\">\n",
       "      <th></th>\n",
       "      <th>Date</th>\n",
       "      <th>Profit/Losses</th>\n",
       "    </tr>\n",
       "  </thead>\n",
       "  <tbody>\n",
       "    <tr>\n",
       "      <th>0</th>\n",
       "      <td>Jan-10</td>\n",
       "      <td>867884</td>\n",
       "    </tr>\n",
       "    <tr>\n",
       "      <th>1</th>\n",
       "      <td>Feb-10</td>\n",
       "      <td>984655</td>\n",
       "    </tr>\n",
       "    <tr>\n",
       "      <th>2</th>\n",
       "      <td>Mar-10</td>\n",
       "      <td>322013</td>\n",
       "    </tr>\n",
       "    <tr>\n",
       "      <th>3</th>\n",
       "      <td>Apr-10</td>\n",
       "      <td>-69417</td>\n",
       "    </tr>\n",
       "    <tr>\n",
       "      <th>4</th>\n",
       "      <td>May-10</td>\n",
       "      <td>310503</td>\n",
       "    </tr>\n",
       "  </tbody>\n",
       "</table>\n",
       "</div>"
      ],
      "text/plain": [
       "     Date  Profit/Losses\n",
       "0  Jan-10         867884\n",
       "1  Feb-10         984655\n",
       "2  Mar-10         322013\n",
       "3  Apr-10         -69417\n",
       "4  May-10         310503"
      ]
     },
     "execution_count": 96,
     "metadata": {},
     "output_type": "execute_result"
    }
   ],
   "source": [
    "df.head()"
   ]
  },
  {
   "cell_type": "code",
   "execution_count": 97,
   "id": "74f06292-ecec-4d96-a5fa-5bd00d3720ed",
   "metadata": {},
   "outputs": [
    {
     "data": {
      "text/plain": [
       "0          NaN\n",
       "1     116771.0\n",
       "2    -662642.0\n",
       "3    -391430.0\n",
       "4     379920.0\n",
       "        ...   \n",
       "81   -665765.0\n",
       "82    693229.0\n",
       "83   -734926.0\n",
       "84     77242.0\n",
       "85    532869.0\n",
       "Name: Profit/Losses, Length: 86, dtype: float64"
      ]
     },
     "execution_count": 97,
     "metadata": {},
     "output_type": "execute_result"
    }
   ],
   "source": [
    "changes = df['Profit/Losses'].diff()\n",
    "changes"
   ]
  },
  {
   "cell_type": "code",
   "execution_count": 98,
   "id": "ceada4ac-a45b-40d9-aa37-9926748872ee",
   "metadata": {},
   "outputs": [
    {
     "data": {
      "text/plain": [
       "-2315.1176470588234"
      ]
     },
     "execution_count": 98,
     "metadata": {},
     "output_type": "execute_result"
    }
   ],
   "source": [
    "meanchanges = changes.mean()\n",
    "meanchanges"
   ]
  },
  {
   "cell_type": "code",
   "execution_count": 99,
   "id": "3e43da74-9436-4e91-951a-e7e32da015a8",
   "metadata": {},
   "outputs": [
    {
     "name": "stdout",
     "output_type": "stream",
     "text": [
      "The average changes in Profit/Losses is -2315.1176470588234\n"
     ]
    }
   ],
   "source": [
    "print(\"The average changes in Profit/Losses is \" + str(meanchanges))"
   ]
  },
  {
   "cell_type": "code",
   "execution_count": 100,
   "id": "985e19b4-2966-4fbb-b6cb-8832b13b326c",
   "metadata": {},
   "outputs": [
    {
     "data": {
      "text/html": [
       "<div>\n",
       "<style scoped>\n",
       "    .dataframe tbody tr th:only-of-type {\n",
       "        vertical-align: middle;\n",
       "    }\n",
       "\n",
       "    .dataframe tbody tr th {\n",
       "        vertical-align: top;\n",
       "    }\n",
       "\n",
       "    .dataframe thead th {\n",
       "        text-align: right;\n",
       "    }\n",
       "</style>\n",
       "<table border=\"1\" class=\"dataframe\">\n",
       "  <thead>\n",
       "    <tr style=\"text-align: right;\">\n",
       "      <th></th>\n",
       "      <th>Date</th>\n",
       "      <th>Profit/Losses</th>\n",
       "      <th>changes</th>\n",
       "    </tr>\n",
       "  </thead>\n",
       "  <tbody>\n",
       "    <tr>\n",
       "      <th>0</th>\n",
       "      <td>Jan-10</td>\n",
       "      <td>867884</td>\n",
       "      <td>NaN</td>\n",
       "    </tr>\n",
       "    <tr>\n",
       "      <th>1</th>\n",
       "      <td>Feb-10</td>\n",
       "      <td>984655</td>\n",
       "      <td>116771.0</td>\n",
       "    </tr>\n",
       "    <tr>\n",
       "      <th>2</th>\n",
       "      <td>Mar-10</td>\n",
       "      <td>322013</td>\n",
       "      <td>-662642.0</td>\n",
       "    </tr>\n",
       "    <tr>\n",
       "      <th>3</th>\n",
       "      <td>Apr-10</td>\n",
       "      <td>-69417</td>\n",
       "      <td>-391430.0</td>\n",
       "    </tr>\n",
       "    <tr>\n",
       "      <th>4</th>\n",
       "      <td>May-10</td>\n",
       "      <td>310503</td>\n",
       "      <td>379920.0</td>\n",
       "    </tr>\n",
       "    <tr>\n",
       "      <th>...</th>\n",
       "      <td>...</td>\n",
       "      <td>...</td>\n",
       "      <td>...</td>\n",
       "    </tr>\n",
       "    <tr>\n",
       "      <th>81</th>\n",
       "      <td>Oct-16</td>\n",
       "      <td>102685</td>\n",
       "      <td>-665765.0</td>\n",
       "    </tr>\n",
       "    <tr>\n",
       "      <th>82</th>\n",
       "      <td>Nov-16</td>\n",
       "      <td>795914</td>\n",
       "      <td>693229.0</td>\n",
       "    </tr>\n",
       "    <tr>\n",
       "      <th>83</th>\n",
       "      <td>Dec-16</td>\n",
       "      <td>60988</td>\n",
       "      <td>-734926.0</td>\n",
       "    </tr>\n",
       "    <tr>\n",
       "      <th>84</th>\n",
       "      <td>Jan-17</td>\n",
       "      <td>138230</td>\n",
       "      <td>77242.0</td>\n",
       "    </tr>\n",
       "    <tr>\n",
       "      <th>85</th>\n",
       "      <td>Feb-17</td>\n",
       "      <td>671099</td>\n",
       "      <td>532869.0</td>\n",
       "    </tr>\n",
       "  </tbody>\n",
       "</table>\n",
       "<p>86 rows × 3 columns</p>\n",
       "</div>"
      ],
      "text/plain": [
       "      Date  Profit/Losses   changes\n",
       "0   Jan-10         867884       NaN\n",
       "1   Feb-10         984655  116771.0\n",
       "2   Mar-10         322013 -662642.0\n",
       "3   Apr-10         -69417 -391430.0\n",
       "4   May-10         310503  379920.0\n",
       "..     ...            ...       ...\n",
       "81  Oct-16         102685 -665765.0\n",
       "82  Nov-16         795914  693229.0\n",
       "83  Dec-16          60988 -734926.0\n",
       "84  Jan-17         138230   77242.0\n",
       "85  Feb-17         671099  532869.0\n",
       "\n",
       "[86 rows x 3 columns]"
      ]
     },
     "execution_count": 100,
     "metadata": {},
     "output_type": "execute_result"
    }
   ],
   "source": [
    "df['changes'] = changes\n",
    "df"
   ]
  },
  {
   "cell_type": "code",
   "execution_count": 101,
   "id": "2ba01ef1-700c-45c8-96c8-bdaddbb20694",
   "metadata": {},
   "outputs": [
    {
     "name": "stdout",
     "output_type": "stream",
     "text": [
      "1926159.0\n"
     ]
    }
   ],
   "source": [
    "columnmax = df['changes']\n",
    "maxvalue = columnmax.max()\n",
    "\n",
    "\n",
    "print(maxvalue)\n",
    "\n"
   ]
  },
  {
   "cell_type": "code",
   "execution_count": 102,
   "id": "ca6dcb5c-539b-4634-bbf3-0fb6309789ed",
   "metadata": {},
   "outputs": [
    {
     "data": {
      "text/html": [
       "<div>\n",
       "<style scoped>\n",
       "    .dataframe tbody tr th:only-of-type {\n",
       "        vertical-align: middle;\n",
       "    }\n",
       "\n",
       "    .dataframe tbody tr th {\n",
       "        vertical-align: top;\n",
       "    }\n",
       "\n",
       "    .dataframe thead th {\n",
       "        text-align: right;\n",
       "    }\n",
       "</style>\n",
       "<table border=\"1\" class=\"dataframe\">\n",
       "  <thead>\n",
       "    <tr style=\"text-align: right;\">\n",
       "      <th></th>\n",
       "      <th>Date</th>\n",
       "      <th>Profit/Losses</th>\n",
       "      <th>changes</th>\n",
       "    </tr>\n",
       "    <tr>\n",
       "      <th>changes</th>\n",
       "      <th></th>\n",
       "      <th></th>\n",
       "      <th></th>\n",
       "    </tr>\n",
       "  </thead>\n",
       "  <tbody>\n",
       "    <tr>\n",
       "      <th>NaN</th>\n",
       "      <td>Jan-10</td>\n",
       "      <td>867884</td>\n",
       "      <td>NaN</td>\n",
       "    </tr>\n",
       "    <tr>\n",
       "      <th>116771.0</th>\n",
       "      <td>Feb-10</td>\n",
       "      <td>984655</td>\n",
       "      <td>116771.0</td>\n",
       "    </tr>\n",
       "    <tr>\n",
       "      <th>-662642.0</th>\n",
       "      <td>Mar-10</td>\n",
       "      <td>322013</td>\n",
       "      <td>-662642.0</td>\n",
       "    </tr>\n",
       "    <tr>\n",
       "      <th>-391430.0</th>\n",
       "      <td>Apr-10</td>\n",
       "      <td>-69417</td>\n",
       "      <td>-391430.0</td>\n",
       "    </tr>\n",
       "    <tr>\n",
       "      <th>379920.0</th>\n",
       "      <td>May-10</td>\n",
       "      <td>310503</td>\n",
       "      <td>379920.0</td>\n",
       "    </tr>\n",
       "    <tr>\n",
       "      <th>...</th>\n",
       "      <td>...</td>\n",
       "      <td>...</td>\n",
       "      <td>...</td>\n",
       "    </tr>\n",
       "    <tr>\n",
       "      <th>-665765.0</th>\n",
       "      <td>Oct-16</td>\n",
       "      <td>102685</td>\n",
       "      <td>-665765.0</td>\n",
       "    </tr>\n",
       "    <tr>\n",
       "      <th>693229.0</th>\n",
       "      <td>Nov-16</td>\n",
       "      <td>795914</td>\n",
       "      <td>693229.0</td>\n",
       "    </tr>\n",
       "    <tr>\n",
       "      <th>-734926.0</th>\n",
       "      <td>Dec-16</td>\n",
       "      <td>60988</td>\n",
       "      <td>-734926.0</td>\n",
       "    </tr>\n",
       "    <tr>\n",
       "      <th>77242.0</th>\n",
       "      <td>Jan-17</td>\n",
       "      <td>138230</td>\n",
       "      <td>77242.0</td>\n",
       "    </tr>\n",
       "    <tr>\n",
       "      <th>532869.0</th>\n",
       "      <td>Feb-17</td>\n",
       "      <td>671099</td>\n",
       "      <td>532869.0</td>\n",
       "    </tr>\n",
       "  </tbody>\n",
       "</table>\n",
       "<p>86 rows × 3 columns</p>\n",
       "</div>"
      ],
      "text/plain": [
       "             Date  Profit/Losses   changes\n",
       "changes                                   \n",
       " NaN       Jan-10         867884       NaN\n",
       " 116771.0  Feb-10         984655  116771.0\n",
       "-662642.0  Mar-10         322013 -662642.0\n",
       "-391430.0  Apr-10         -69417 -391430.0\n",
       " 379920.0  May-10         310503  379920.0\n",
       "...           ...            ...       ...\n",
       "-665765.0  Oct-16         102685 -665765.0\n",
       " 693229.0  Nov-16         795914  693229.0\n",
       "-734926.0  Dec-16          60988 -734926.0\n",
       " 77242.0   Jan-17         138230   77242.0\n",
       " 532869.0  Feb-17         671099  532869.0\n",
       "\n",
       "[86 rows x 3 columns]"
      ]
     },
     "execution_count": 102,
     "metadata": {},
     "output_type": "execute_result"
    }
   ],
   "source": [
    "df.set_index(df['changes'], inplace = True)\n",
    "df.head()\n",
    "df.copy()\n"
   ]
  },
  {
   "cell_type": "code",
   "execution_count": 103,
   "id": "6b2eef91-b522-47a7-a675-d8212923c9be",
   "metadata": {},
   "outputs": [
    {
     "data": {
      "text/plain": [
       "'Feb-12'"
      ]
     },
     "execution_count": 103,
     "metadata": {},
     "output_type": "execute_result"
    }
   ],
   "source": [
    "maxmonth = df.loc[maxvalue][0]\n",
    "maxmonth\n",
    "\n"
   ]
  },
  {
   "cell_type": "code",
   "execution_count": 104,
   "id": "43d68bba-4ec6-4b4d-934f-31ce17853c31",
   "metadata": {},
   "outputs": [
    {
     "name": "stdout",
     "output_type": "stream",
     "text": [
      "Greatest Increase in Profits: Feb-12 ($1926159)\n"
     ]
    }
   ],
   "source": [
    "maxprofit = int(maxvalue)\n",
    "print(f\"Greatest Increase in Profits: {maxmonth} (${maxprofit})\")"
   ]
  },
  {
   "cell_type": "code",
   "execution_count": 105,
   "id": "dc9eccdd-98ca-455f-bd19-7f5fcf52e466",
   "metadata": {},
   "outputs": [
    {
     "name": "stdout",
     "output_type": "stream",
     "text": [
      "-2196167.0\n"
     ]
    }
   ],
   "source": [
    "columnmin = df['changes']\n",
    "minvalue = columnmin.min()\n",
    "print(minvalue)"
   ]
  },
  {
   "cell_type": "code",
   "execution_count": 106,
   "id": "b22d1674-b95e-467b-b7c3-c0fb692cc9d2",
   "metadata": {},
   "outputs": [
    {
     "data": {
      "text/plain": [
       "'Sep-13'"
      ]
     },
     "execution_count": 106,
     "metadata": {},
     "output_type": "execute_result"
    }
   ],
   "source": [
    "minmonth = df.loc[minvalue][0]\n",
    "minmonth\n"
   ]
  },
  {
   "cell_type": "code",
   "execution_count": 107,
   "id": "2ce44758-e999-4d5d-bea5-25919fcf4b2b",
   "metadata": {},
   "outputs": [
    {
     "name": "stdout",
     "output_type": "stream",
     "text": [
      "Greatest Decrease in Profits: Sep-13 ($-2196167)\n"
     ]
    }
   ],
   "source": [
    "minprofit = int(minvalue)\n",
    "print(f\"Greatest Decrease in Profits: {minmonth} (${minprofit})\")"
   ]
  },
  {
   "cell_type": "code",
   "execution_count": 114,
   "id": "d6bd96c8-b92a-432d-8c27-c1e6ba398747",
   "metadata": {},
   "outputs": [
    {
     "name": "stdout",
     "output_type": "stream",
     "text": [
      "Total Months: 86\n",
      "Total: $38382578\n",
      "Greatest Increase in Profits: Feb-12 ($1926159)\n",
      "Greatest Decrease in Profits: Sep-13 ($-2196167)\n"
     ]
    }
   ],
   "source": [
    "print(f\"Total Months: {total_months}\")\n",
    "print(f\"Total: ${total}\")\n",
    "print(f\"Greatest Increase in Profits: {maxmonth} (${maxprofit})\")\n",
    "print(f\"Greatest Decrease in Profits: {minmonth} (${minprofit})\")"
   ]
  },
  {
   "cell_type": "code",
   "execution_count": 117,
   "id": "4fb33513-6bbf-4a1b-90ee-74843a6b8891",
   "metadata": {},
   "outputs": [
    {
     "name": "stdout",
     "output_type": "stream",
     "text": [
      "Total Months: 86\n",
      "Total: $38382578\n",
      "Greatest Increase in Profits: Feb-12 ($1926159)\n",
      "Greatest Decrease in Profits: Sep-13 ($-2196167)\n"
     ]
    }
   ],
   "source": [
    "a = print(f\"Total Months: {total_months}\")\n",
    "b = print(f\"Total: ${total}\")\n",
    "c = print(f\"Greatest Increase in Profits: {maxmonth} (${maxprofit})\")\n",
    "d = print(f\"Greatest Decrease in Profits: {minmonth} (${minprofit})\")"
   ]
  },
  {
   "cell_type": "code",
   "execution_count": null,
   "id": "06ad79ae-8542-4cc3-a085-4eaa275f14fb",
   "metadata": {},
   "outputs": [],
   "source": [
    "sys.stdout = open(\"text.txt\", \"w\")\n",
    "\n",
    "print(f\"Total Months: {total_months}\")\n",
    "print(f\"Total: ${total}\")\n",
    "print(f\"Greatest Increase in Profits: {maxmonth} (${maxprofit})\")\n",
    "print(f\"Greatest Decrease in Profits: {minmonth} (${minprofit})\")\n",
    "\n",
    "sys.stdout.close()"
   ]
  },
  {
   "cell_type": "code",
   "execution_count": null,
   "id": "5d9032d4-8458-407b-8b0c-4947eebd543d",
   "metadata": {},
   "outputs": [],
   "source": []
  },
  {
   "cell_type": "code",
   "execution_count": null,
   "id": "294356a6-78f9-427c-9809-26a42aa78ef8",
   "metadata": {},
   "outputs": [],
   "source": []
  }
 ],
 "metadata": {
  "kernelspec": {
   "display_name": "Python 3",
   "language": "python",
   "name": "python3"
  },
  "language_info": {
   "codemirror_mode": {
    "name": "ipython",
    "version": 3
   },
   "file_extension": ".py",
   "mimetype": "text/x-python",
   "name": "python",
   "nbconvert_exporter": "python",
   "pygments_lexer": "ipython3",
   "version": "3.8.5"
  }
 },
 "nbformat": 4,
 "nbformat_minor": 5
}
